{
 "cells": [
  {
   "cell_type": "code",
   "execution_count": 3,
   "metadata": {},
   "outputs": [],
   "source": [
    "import numpy as np\n",
    "from scipy.stats import beta\n",
    "\n",
    "from sklearn.metrics import mean_squared_error\n",
    "from math import sqrt\n",
    "\n",
    "# Plotting\n",
    "%matplotlib inline\n",
    "import matplotlib.pyplot as plt\n",
    "import matplotlib as mpl\n",
    "\n",
    "a1, b1 = 1, 10\n",
    "rv1 = beta(a1, b1)\n",
    "\n",
    "a2, b2 = 3, 3\n",
    "rv2 = beta(a2, b2)\n",
    "\n",
    "x = np.linspace(0, 1, 100)\n"
   ]
  },
  {
   "cell_type": "code",
   "execution_count": 9,
   "metadata": {},
   "outputs": [],
   "source": [
    "def rmse(y_actual, y_predicted):\n",
    "    rms = sqrt(mean_squared_error(y_actual, y_predicted))\n",
    "    return rms\n",
    "\n",
    "def visualize_hpd(hpds, p_hat, p_true):\n",
    "    fig = plt.gcf()\n",
    "    fig.set_size_inches(5, 5)\n",
    "    plt.title(\"Inference of linear model.\")\n",
    "    plt.xlabel(\"Chain parameters\")\n",
    "    plt.ylabel(\"Parameter's domain\")\n",
    "    plt.plot(p_true, 'rx')\n",
    "    plt.xticks(np.arange(2), ['a', 'b'])\n",
    "    for i in range(0, len(p_true)):\n",
    "        offset = 0.05\n",
    "        for i, interval in enumerate(hpds):\n",
    "            l = interval[0]\n",
    "            u = interval[1]\n",
    "            offset = 0.2\n",
    "            plt.plot(i + offset, p_hat[i], 'g_')\n",
    "            plt.plot([i + offset, i + offset], [l, u], 'g-')\n",
    "    for xc in np.arange(len(p_true)):\n",
    "        plt.axvline(x=xc, linewidth=0.5)\n",
    "    caption = \"Linear model estimation\"\n",
    "    plt.figtext(0.5, -0.1, caption, wrap=True, horizontalalignment='center', fontsize=12)\n",
    "    plt.show()"
   ]
  },
  {
   "cell_type": "code",
   "execution_count": 10,
   "metadata": {
    "scrolled": false
   },
   "outputs": [
    {
     "name": "stdout",
     "output_type": "stream",
     "text": [
      "Model file: data/prism/bee_multiparam_synchronous_5.pm\n",
      "BSCC file: data/prism/bee_multiparam_synchronous_5.txt\n",
      "True parameters: a=0.1, b=0.2\n",
      "Estimated parameters: a=0.092014759787157, b=0.20614608892292768\n",
      "RMSE: 0.0071252533395430705\n",
      "Physical runtime: 2.35766604 secs\n",
      "AIC: 59.695671\n"
     ]
    },
    {
     "data": {
      "image/png": "[encoded data removed]",
      "text/plain": [
       "<Figure size 360x360 with 1 Axes>"
      ]
     },
     "metadata": {
      "needs_background": "light"
     },
     "output_type": "display_data"
    }
   ],
   "source": [
    "p_true = [0.1, 0.2]\n",
    "p_hat = [0.092014759787157, 0.20614608892292768]\n",
    "hpds = [(0.07126146881263244, 0.09201475978715701), (0.20208406272211638, 0.20614608892292768)]\n",
    "print('Model file: {}'.format('data/prism/bee_multiparam_synchronous_5.pm'))\n",
    "print('BSCC file: {}'.format('data/prism/bee_multiparam_synchronous_5.txt'))\n",
    "print('True parameters: a={}, b={}'.format(p_true[0], p_true[1]))\n",
    "print('Estimated parameters: a={}, b={}'.format(p_hat[0], p_hat[1]))\n",
    "print('RMSE: {}'.format(rmse(p_true, p_hat)))\n",
    "print('Physical runtime: {} secs'.format(2.35766604))\n",
    "print('AIC: {}'.format(59.695671))\n",
    "visualize_hpd(hpds, p_hat, p_true)"
   ]
  },
  {
   "cell_type": "code",
   "execution_count": 11,
   "metadata": {},
   "outputs": [
    {
     "name": "stdout",
     "output_type": "stream",
     "text": [
      "Model file: data/prism/bee_multiparam_synchronous_10.pm\n",
      "BSCC file: data/prism/bee_multiparam_synchronous_10.txt\n",
      "True parameters: a=0.01, b=0.02\n",
      "Estimated parameters: a=0.009878094156066811, b=0.020278274487981494\n",
      "RMSE: 0.0002148228635951324\n",
      "Physical runtime: 129.908486 secs\n",
      "AIC: 33.6277592\n"
     ]
    },
    {
     "data": {
      "image/png": "[encoded data removed]",
      "text/plain": [
       "<Figure size 360x360 with 1 Axes>"
      ]
     },
     "metadata": {
      "needs_background": "light"
     },
     "output_type": "display_data"
    }
   ],
   "source": [
    "p_true = [0.01, 0.02]\n",
    "p_hat = [0.009878094156066811, 0.020278274487981494]\n",
    "hpds = [(0.0030054741914741423, 0.06276919527006122), (0.015933001960112683, 0.03753113305344973)]\n",
    "print('Model file: {}'.format('data/prism/bee_multiparam_synchronous_10.pm'))\n",
    "print('BSCC file: {}'.format('data/prism/bee_multiparam_synchronous_10.txt'))\n",
    "print('True parameters: a={}, b={}'.format(p_true[0], p_true[1]))\n",
    "print('Estimated parameters: a={}, b={}'.format(p_hat[0], p_hat[1]))\n",
    "print('RMSE: {}'.format(rmse(p_true, p_hat)))\n",
    "print('Physical runtime: {} secs'.format(129.908486))\n",
    "print('AIC: {}'.format(33.6277592))\n",
    "visualize_hpd(hpds, p_hat, p_true)"
   ]
  },
  {
   "cell_type": "code",
   "execution_count": null,
   "metadata": {},
   "outputs": [],
   "source": [
    "p_true = [0.003186578075742741, 0.1529147183576044, 0.38326481740434626,\n",
    "          0.38770819078363106, 0.426928113401854, 0.5791164913034477,\n",
    "          0.7401949229822984, 0.7893002782182501, 0.8139393399312541,\n",
    "          0.8194092726880179]\n",
    "p_hat = [0.009878094156066811, 0.020278274487981494]\n",
    "hpds = [(0.0030054741914741423, 0.06276919527006122), (0.015933001960112683, 0.03753113305344973)]\n",
    "print('Model file: {}'.format())\n",
    "print('BSCC file: {}'.format())\n",
    "print('True parameters: a={}, b={}'.format(p_true[0], p_true[1]))\n",
    "print('Estimated parameters: a={}, b={}'.format(p_hat[0], p_hat[1]))\n",
    "print('RMSE: {}'.format(rmse(p_true, p_hat)))\n",
    "print('Physical runtime: {} secs'.format(129.908486))\n",
    "print('AIC: {}'.format(33.6277592))\n",
    "visualize_hpd(hpds, p_hat, p_true)"
   ]
  }
 ],
 "metadata": {
  "kernelspec": {
   "display_name": "Python 3",
   "language": "python",
   "name": "python3"
  },
  "language_info": {
   "codemirror_mode": {
    "name": "ipython",
    "version": 3
   },
   "file_extension": ".py",
   "mimetype": "text/x-python",
   "name": "python",
   "nbconvert_exporter": "python",
   "pygments_lexer": "ipython3",
   "version": "3.7.7"
  }
 },
 "nbformat": 4,
 "nbformat_minor": 4
}
