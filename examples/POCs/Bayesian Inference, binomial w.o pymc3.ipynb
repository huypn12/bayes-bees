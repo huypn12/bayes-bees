{
 "cells": [
  {
   "cell_type": "code",
   "execution_count": 26,
   "metadata": {},
   "outputs": [],
   "source": [
    "import pandas as pd\n",
    "import numpy as np\n",
    "from numpy.random import seed, randint\n",
    "import math\n",
    "\n",
    "# Plotting\n",
    "%matplotlib inline\n",
    "import matplotlib.pyplot as plt\n",
    "import matplotlib as mpl"
   ]
  },
  {
   "cell_type": "markdown",
   "metadata": {},
   "source": [
    "Synthesize data"
   ]
  },
  {
   "cell_type": "code",
   "execution_count": 31,
   "metadata": {},
   "outputs": [
    {
     "name": "stdout",
     "output_type": "stream",
     "text": [
      "Example data with true parameter: [ 7  8  8  7  5  2  7  4  8  9  4  5  7  9  3  7  5  5  5  6  9  3  3  7\n",
      "  2  9  6  4  5  7  5  9  9  4  7  6  5  7  5  5  7  6  7  6  5 10  8  6\n",
      "  6  4  6  7  5  9  3  8  7  6  8  9  2  7  7  3  9  4  5  2  5  7  5  3\n",
      "  2  2  5  5  3  4  6  5  4  1  8  3  8  8 10  2  6  8 14  4  6  7  7  9\n",
      "  4  4  5  3]\n"
     ]
    }
   ],
   "source": [
    "P_true = 0.2\n",
    "N = 30\n",
    "\n",
    "def do_experiment():\n",
    "     return np.random.binomial(N, P_true, 100)\n",
    "\n",
    "print(\"Example data with true parameter: {}\".format(do_experiment()))"
   ]
  },
  {
   "cell_type": "markdown",
   "metadata": {},
   "source": [
    "# Bayesian inference, iteration scheme"
   ]
  },
  {
   "cell_type": "markdown",
   "metadata": {},
   "source": [
    "**Iteration step**"
   ]
  },
  {
   "cell_type": "code",
   "execution_count": 13,
   "metadata": {},
   "outputs": [],
   "source": [
    "def bayes(data, alpha, beta):\n",
    "    n = len(data)\n",
    "    new_alpha = alpha + np.sum(data)\n",
    "    new_beta = beta + (N * (len(data))) - np.sum(data) \n",
    "    new_p = alpha / (alpha + beta)\n",
    "    return new_alpha, new_beta, new_p"
   ]
  },
  {
   "cell_type": "markdown",
   "metadata": {},
   "source": [
    "**Iteration scheme**"
   ]
  },
  {
   "cell_type": "code",
   "execution_count": 29,
   "metadata": {},
   "outputs": [
    {
     "name": "stdout",
     "output_type": "stream",
     "text": [
      "Last estimated p=0.2006249116167568, distance to true p=0.0006249116167567903\n"
     ]
    }
   ],
   "source": [
    "n_iter = 100\n",
    "alpha = 1\n",
    "beta = 1\n",
    "estimated_p = 0\n",
    "traces = []\n",
    "for i in range(0, n_iter):\n",
    "    # synthesize data\n",
    "    data = do_experiment()\n",
    "    # inference\n",
    "    alpha, beta, estimated_p = bayes(data, alpha, beta)\n",
    "    traces.append((alpha, beta, estimated_p))\n",
    "print(\"Last estimated p={}, distance to true p={}\".format(estimated_p, abs(estimated_p - P_true)))"
   ]
  },
  {
   "cell_type": "markdown",
   "metadata": {},
   "source": [
    "**Showing the convergence to true parameter P**"
   ]
  },
  {
   "cell_type": "code",
   "execution_count": 32,
   "metadata": {},
   "outputs": [
    {
     "name": "stdout",
     "output_type": "stream",
     "text": [
      "HPD=[0.18491977 0.20879019], width=0.023870412651989276, estimated_p=0.5, distance=0.3\n",
      "HPD=[0.19521405 0.2123171 ], width=0.017103043648654975, estimated_p=0.19686875416389074, distance=0.00313124583610927\n",
      "HPD=[0.19321956 0.20709097], width=0.01387140677594445, estimated_p=0.20376541152949018, distance=0.0037654115294901702\n",
      "HPD=[0.19114896 0.20309614], width=0.011947182601082906, estimated_p=0.20017773828038213, distance=0.00017773828038211703\n",
      "HPD=[0.19195613 0.2026449 ], width=0.010688769572789747, estimated_p=0.19713381103149474, distance=0.0028661889685052677\n",
      "HPD=[0.19211139 0.20186312], width=0.009751730562028105, estimated_p=0.1973070257299027, distance=0.0026929742700973203\n",
      "HPD=[0.19486507 0.20393088], width=0.009065809248625739, estimated_p=0.19697811354293968, distance=0.0030218864570603354\n",
      "HPD=[0.19652788 0.2050341 ], width=0.008506216042883818, estimated_p=0.1994095800399962, distance=0.0005904199600038074\n",
      "HPD=[0.19546602 0.2034656 ], width=0.007999574914895474, estimated_p=0.20077493542204816, distance=0.0007749354220481508\n",
      "HPD=[0.19654815 0.20414711], width=0.007598964062429742, estimated_p=0.19946670616991333, distance=0.0005332938300866841\n",
      "HPD=[0.19684353 0.20409169], width=0.007248157462598104, estimated_p=0.20035330977934804, distance=0.00035330977934802665\n",
      "HPD=[0.1982627  0.20522016], width=0.006957462831084421, estimated_p=0.2004726986243258, distance=0.00047269862432577914\n",
      "HPD=[0.19796664 0.20464598], width=0.006679345480717885, estimated_p=0.20173879228931726, distance=0.0017387922893172536\n",
      "HPD=[0.19725111 0.20368052], width=0.006429400787842571, estimated_p=0.20132300907645762, distance=0.0013230090764576041\n",
      "HPD=[0.19825575 0.20447646], width=0.006220710707582289, estimated_p=0.2004666444455026, distance=0.0004666444455025953\n",
      "HPD=[0.19889956 0.20492917], width=0.0060296091596759305, estimated_p=0.20136882805208658, distance=0.0013688280520865737\n",
      "HPD=[0.19857079 0.2044121 ], width=0.00584131020906567, estimated_p=0.20190825382275737, distance=0.0019082538227573609\n",
      "HPD=[0.19887667 0.20455707], width=0.005680406312426056, estimated_p=0.20150190188620054, distance=0.0015019018862005296\n",
      "HPD=[0.19891949 0.2044472 ], width=0.0055277104578118075, estimated_p=0.2017147513055072, distance=0.0017147513055071895\n",
      "HPD=[0.19890877 0.20429918], width=0.005390415474060939, estimated_p=0.20169467737974106, distance=0.0016946773797410497\n",
      "HPD=[0.19880924 0.20406286], width=0.00525361743384381, estimated_p=0.20160994633512216, distance=0.0016099463351221532\n",
      "HPD=[0.1990065  0.20414469], width=0.005138188623133505, estimated_p=0.20143804958572745, distance=0.0014380495857274356\n",
      "HPD=[0.19892409 0.20394712], width=0.005023037219062609, estimated_p=0.2015696494045635, distance=0.0015696494045635\n",
      "HPD=[0.19903463 0.20395118], width=0.004916540826827187, estimated_p=0.20142894408857714, distance=0.0014289440885771332\n",
      "HPD=[0.19938934 0.20421205], width=0.004822709811014542, estimated_p=0.20149440293325185, distance=0.0014944029332518427\n",
      "HPD=[0.19949348 0.20422077], width=0.004727295448761215, estimated_p=0.20180795178795233, distance=0.0018079517879523166\n",
      "HPD=[0.199447   0.20408617], width=0.004639169896495515, estimated_p=0.2018537986205482, distance=0.001853798620548186\n",
      "HPD=[0.19965825 0.20421418], width=0.004555925991188564, estimated_p=0.2017604503592504, distance=0.0017604503592503762\n",
      "HPD=[0.1991382  0.20361037], width=0.004472172294905347, estimated_p=0.20193566819837622, distance=0.0019356681983762059\n",
      "HPD=[0.19930866 0.20370701], width=0.004398350540548962, estimated_p=0.2013631870531712, distance=0.0013631870531711776\n",
      "HPD=[0.19947469 0.20380452], width=0.004329832434974951, estimated_p=0.2015066331859292, distance=0.001506633185929196\n",
      "HPD=[0.19944934 0.20370688], width=0.004257531651514407, estimated_p=0.20163007247155976, distance=0.0016300724715597459\n",
      "HPD=[0.19883957 0.20302718], width=0.004187609476400206, estimated_p=0.2015791337680465, distance=0.0015791337680464979\n",
      "HPD=[0.19904482 0.20317393], width=0.004129105712930514, estimated_p=0.20093533463970426, distance=0.0009353346397042439\n",
      "HPD=[0.19906359 0.20313152], width=0.004067925959902408, estimated_p=0.20110389992353092, distance=0.00110389992353091\n",
      "HPD=[0.19919019 0.20320218], width=0.004011984812591157, estimated_p=0.2010914077827089, distance=0.0010914077827088864\n",
      "HPD=[0.19891734 0.20287405], width=0.003956715091085999, estimated_p=0.20119071869039462, distance=0.0011907186903946099\n",
      "HPD=[0.19864255 0.20254451], width=0.003901959832258328, estimated_p=0.20089728113006972, distance=0.0008972811300697048\n",
      "HPD=[0.19871377 0.20256513], width=0.003851358443007269, estimated_p=0.20059297205312188, distance=0.0005929720531218652\n",
      "HPD=[0.19869066 0.20249344], width=0.003802783775198243, estimated_p=0.20064614280097776, distance=0.0006461428009777448\n",
      "HPD=[0.19881242 0.20256989], width=0.003757471092557696, estimated_p=0.20059665672238797, distance=0.000596656722387956\n",
      "HPD=[0.19880036 0.20251149], width=0.003711132963976349, estimated_p=0.200695923643518, distance=0.0006959236435179761\n",
      "HPD=[0.19904479 0.20271337], width=0.0036685789360946797, estimated_p=0.20065554515007697, distance=0.0006555451500769582\n",
      "HPD=[0.19906323 0.20269144], width=0.0036282090279744217, estimated_p=0.20088060650222478, distance=0.0008806065022247678\n",
      "HPD=[0.19907213 0.20265824], width=0.0035861114072971434, estimated_p=0.20087574430690444, distance=0.0008757443069044302\n",
      "HPD=[0.19902951 0.20257495], width=0.0035454373446500986, estimated_p=0.20086369090828285, distance=0.0008636909082828381\n",
      "HPD=[0.19919518 0.20270479], width=0.0035096076571001777, estimated_p=0.20080143766032377, distance=0.0008014376603237561\n",
      "HPD=[0.1991095 0.2025834], width=0.0034738970990534357, estimated_p=0.2009545963887037, distance=0.0009545963887036824\n",
      "HPD=[0.19932258 0.20276229], width=0.0034397049508017585, estimated_p=0.20085137706420744, distance=0.0008513770642074314\n",
      "HPD=[0.1991329  0.20253552], width=0.0034026181664633115, estimated_p=0.20104488374307833, distance=0.0010448837430783176\n",
      "HPD=[0.19898388 0.20235335], width=0.0033694728375325556, estimated_p=0.2008306555912588, distance=0.0008306555912587776\n",
      "HPD=[0.19920608 0.20254254], width=0.00333645812339442, estimated_p=0.2006640436072731, distance=0.000664043607273096\n",
      "HPD=[0.19921241 0.20251884], width=0.003306428130045974, estimated_p=0.20087562979961796, distance=0.0008756297996179441\n",
      "HPD=[0.19924052 0.20251584], width=0.0032753249127229767, estimated_p=0.20086539791952301, distance=0.0008653979195230033\n",
      "HPD=[0.19925476 0.20250057], width=0.003245813952141491, estimated_p=0.20088023604646857, distance=0.0008802360464685577\n",
      "HPD=[0.19933581 0.20255106], width=0.003215242634950932, estimated_p=0.20087029248130325, distance=0.000870292481303242\n",
      "HPD=[0.19938594 0.20257414], width=0.003188195122222015, estimated_p=0.20094403638051928, distance=0.0009440363805192642\n",
      "HPD=[0.19961232 0.20277471], width=0.0031623881800161013, estimated_p=0.20098010549584217, distance=0.000980105495842154\n",
      "HPD=[0.19978927 0.20292262], width=0.0031333542101308343, estimated_p=0.20118734267422214, distance=0.0011873426742221305\n",
      "HPD=[0.19956123 0.20266961], width=0.0031083761919713238, estimated_p=0.2013536570208246, distance=0.0013536570208246002\n",
      "HPD=[0.19942579 0.20250742], width=0.0030816314824572977, estimated_p=0.20111998755569382, distance=0.0011199875556938133\n",
      "HPD=[0.19952666 0.20258282], width=0.0030561599125735472, estimated_p=0.20097048119692681, distance=0.0009704811969268035\n",
      "HPD=[0.19939781 0.20242992], width=0.003032105754085912, estimated_p=0.20106235416823476, distance=0.001062354168234747\n",
      "HPD=[0.19941547 0.20242398], width=0.0030085134973437955, estimated_p=0.20091850879884868, distance=0.0009185087988486662\n",
      "HPD=[0.19942527 0.20241216], width=0.002986887992439402, estimated_p=0.20091978208560327, distance=0.0009197820856032546\n",
      "HPD=[0.19941163 0.20237354], width=0.002961909548242575, estimated_p=0.20091588804217392, distance=0.0009158880421739068\n",
      "HPD=[0.19937171 0.20231223], width=0.0029405206088071456, estimated_p=0.2008868597286896, distance=0.0008868597286895985\n",
      "HPD=[0.19930178 0.2022198 ], width=0.0029180172327965548, estimated_p=0.20084377269877912, distance=0.0008437726987791105\n",
      "HPD=[0.19919741 0.20209479], width=0.0028973771404111337, estimated_p=0.2007627376202194, distance=0.0007627376202193892\n"
     ]
    },
    {
     "name": "stdout",
     "output_type": "stream",
     "text": [
      "HPD=[0.19932543 0.20220075], width=0.0028753176035226924, estimated_p=0.2006405735210288, distance=0.0006405735210287811\n",
      "HPD=[0.19932857 0.20218341], width=0.0028548405301485336, estimated_p=0.2007599927619737, distance=0.0007599927619736935\n",
      "HPD=[0.19931566 0.20215105], width=0.0028353898387173393, estimated_p=0.2007539835306711, distance=0.0007539835306710763\n",
      "HPD=[0.19940748 0.20222303], width=0.0028155494682267634, estimated_p=0.20073888204738846, distance=0.0007388820473884505\n",
      "HPD=[0.19945143 0.20224835], width=0.0027969219061243222, estimated_p=0.20081551766650532, distance=0.000815517666505311\n",
      "HPD=[0.19956255 0.20234228], width=0.002779726033020069, estimated_p=0.20084954189601895, distance=0.0008495418960189349\n",
      "HPD=[0.19958058 0.20234165], width=0.0027610691874958293, estimated_p=0.20095376929982844, distance=0.0009537692998284331\n",
      "HPD=[0.19952594 0.20226851], width=0.00274256846638965, estimated_p=0.2009631494460575, distance=0.000963149446057493\n",
      "HPD=[0.19954859 0.20227254], width=0.002723946165209712, estimated_p=0.20089436455095627, distance=0.0008943645509562614\n",
      "HPD=[0.19960375 0.20231308], width=0.002709330622206324, estimated_p=0.20091281271100248, distance=0.0009128127110024642\n",
      "HPD=[0.19952719 0.20221863], width=0.0026914398502761727, estimated_p=0.20095611007502046, distance=0.0009561100750204443\n",
      "HPD=[0.19937437 0.20204646], width=0.0026720890867701075, estimated_p=0.2008733260556162, distance=0.0008733260556161859\n",
      "HPD=[0.19926971 0.20192688], width=0.0026571675303011244, estimated_p=0.20071439741236696, distance=0.0007143974123669516\n",
      "HPD=[0.19917191 0.20181132], width=0.002639407948204109, estimated_p=0.20060406012959245, distance=0.0006040601295924375\n",
      "HPD=[0.19917104 0.2017943 ], width=0.002623263232009232, estimated_p=0.2004923655231685, distance=0.0004923655231684754\n",
      "HPD=[0.19930449 0.20191316], width=0.002608672986902344, estimated_p=0.20048650407536447, distance=0.0004865040753644634\n",
      "HPD=[0.19944852 0.20204281], width=0.0025942899702305067, estimated_p=0.20060626975474702, distance=0.0006062697547470075\n",
      "HPD=[0.1993081  0.20188647], width=0.0025783716343055485, estimated_p=0.2007503817799862, distance=0.0007503817799861812\n",
      "HPD=[0.19943788 0.20200221], width=0.0025643280192147178, estimated_p=0.20059999540233409, distance=0.0005999954023340748\n",
      "HPD=[0.19948991 0.20203943], width=0.002549517739113688, estimated_p=0.20071438852735965, distance=0.0007143885273596384\n",
      "HPD=[0.19944552 0.20198089], width=0.0025353680167966297, estimated_p=0.20076628639485847, distance=0.0007662863948584564\n",
      "HPD=[0.19952409 0.20204588], width=0.002521794493415025, estimated_p=0.20071703172569091, distance=0.0007170317256909031\n",
      "HPD=[0.19959397 0.20210219], width=0.0025082238742588914, estimated_p=0.20078973780411866, distance=0.0007897378041186454\n",
      "HPD=[0.1995466  0.20204207], width=0.0024954659587709815, estimated_p=0.20084637067847336, distance=0.000846370678473346\n",
      "HPD=[0.19954093 0.20202251], width=0.0024815776359210506, estimated_p=0.20079425953935814, distance=0.0007942595393581331\n",
      "HPD=[0.19949306 0.20196077], width=0.0024677180232371976, estimated_p=0.20077871788143348, distance=0.0007787178814334661\n",
      "HPD=[0.19949874 0.20195281], width=0.002454076049858256, estimated_p=0.20072490719363373, distance=0.000724907193633717\n",
      "HPD=[0.1994602  0.20190393], width=0.0024437313241374437, estimated_p=0.2007243005256908, distance=0.0007243005256907797\n",
      "HPD=[0.19942421 0.20185351], width=0.0024292998786696607, estimated_p=0.2006859059387908, distance=0.0006859059387907818\n",
      "HPD=[0.19941629 0.20183354], width=0.0024172475542833805, estimated_p=0.20064489357215257, distance=0.000644893572152555\n",
      "HPD=[0.19949027 0.20189623], width=0.0024059623225486937, estimated_p=0.2006249116167568, distance=0.0006249116167567903\n"
     ]
    }
   ],
   "source": [
    "import pymc3 as pm\n",
    "for tr in traces:\n",
    "    posterior_sample = np.random.beta(tr[0], tr[1], 10000000)\n",
    "    # TODO: explain how HPD/BCI is calculated\n",
    "    # TODO: reimplement. It is not really complicated\n",
    "    hpd = pm.stats.hpd(posterior_sample, credible_interval= 0.90)\n",
    "    print(\"HPD={}, width={}, estimated_p={}, distance={}\".format(\n",
    "        hpd,\n",
    "        abs(hpd[0] - hpd[1]),\n",
    "        tr[2],\n",
    "        abs(tr[2] - P_true)\n",
    "    ))"
   ]
  },
  {
   "cell_type": "code",
   "execution_count": 20,
   "metadata": {},
   "outputs": [
    {
     "data": {
      "text/plain": [
       "(Mean(statistic=0.1996889863878346, minmax=(0.19968853414838467, 0.19968943862728455)),\n",
       " Variance(statistic=5.324032604223419e-07, minmax=(5.319365969639052e-07, 5.328699238807786e-07)),\n",
       " Std_dev(statistic=0.0007296596880891406, minmax=(0.0007293399065073605, 0.0007299794696709207)))"
      ]
     },
     "execution_count": 20,
     "metadata": {},
     "output_type": "execute_result"
    }
   ],
   "source": [
    "import scipy.stats as stats\n",
    "stats.bayes_mvs(posterior_sample, 0.95)"
   ]
  },
  {
   "cell_type": "code",
   "execution_count": null,
   "metadata": {},
   "outputs": [],
   "source": []
  }
 ],
 "metadata": {
  "kernelspec": {
   "display_name": "Python 3",
   "language": "python",
   "name": "python3"
  },
  "language_info": {
   "codemirror_mode": {
    "name": "ipython",
    "version": 3
   },
   "file_extension": ".py",
   "mimetype": "text/x-python",
   "name": "python",
   "nbconvert_exporter": "python",
   "pygments_lexer": "ipython3",
   "version": "3.7.6"
  }
 },
 "nbformat": 4,
 "nbformat_minor": 4
}
