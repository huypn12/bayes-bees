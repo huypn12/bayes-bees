{
 "cells": [
  {
   "cell_type": "markdown",
   "metadata": {},
   "source": [
    "## Import "
   ]
  },
  {
   "cell_type": "code",
   "execution_count": 5,
   "metadata": {},
   "outputs": [],
   "source": [
    "import sys\n",
    "import numpy as np\n",
    "import scipy as sp\n",
    "\n",
    "from models.semisync_5bees import Semisync5bees\n",
    "\n",
    "# Plotting\n",
    "%matplotlib inline\n",
    "import matplotlib.pyplot as plt\n",
    "import matplotlib as mpl"
   ]
  },
  {
   "cell_type": "markdown",
   "metadata": {},
   "source": [
    "## Data synthesis visualization"
   ]
  },
  {
   "cell_type": "markdown",
   "metadata": {},
   "source": [
    "List of data visualization:\n",
    "1. Multinomial sample of 5 bees model, red dot\n",
    "2. HPD of Conjugated Multinomial vs Interval of Frequentist"
   ]
  },
  {
   "cell_type": "code",
   "execution_count": 19,
   "metadata": {},
   "outputs": [
    {
     "name": "stdout",
     "output_type": "stream",
     "text": [
      "[20, 11, 27, 20, 17, 5]\n"
     ]
    },
    {
     "data": {
      "image/png": "[encoded data removed]",
      "text/plain": [
       "<Figure size 432x288 with 1 Axes>"
      ]
     },
     "metadata": {
      "needs_background": "light"
     },
     "output_type": "display_data"
    }
   ],
   "source": [
    "model = Semisync5bees()\n",
    "N = 100\n",
    "p_true = [0.3, 0.25, 0.35, 0.45, 0.5]\n",
    "(s, m, f) = model.sample(params=p_true, sample_size=N)\n",
    "\n",
    "def plot_multinomial_data(data):\n",
    "    plt.plot(data, 'ro')\n",
    "    plt.ylabel('Histogram of synthesized data')\n",
    "    plt.show()\n",
    "\n",
    "print(m)\n",
    "    \n",
    "plot_multinomial_data(m)"
   ]
  },
  {
   "cell_type": "code",
   "execution_count": 32,
   "metadata": {},
   "outputs": [
    {
     "data": {
      "image/png": "[encoded data removed]",
      "text/plain": [
       "<Figure size 612x396 with 1 Axes>"
      ]
     },
     "metadata": {
      "needs_background": "light"
     },
     "output_type": "display_data"
    },
    {
     "data": {
      "image/png": "[encoded data removed]",
      "text/plain": [
       "<Figure size 612x396 with 1 Axes>"
      ]
     },
     "metadata": {
      "needs_background": "light"
     },
     "output_type": "display_data"
    }
   ],
   "source": [
    "# import pymc3 to use HPD calculation\n",
    "import pymc3 as pm\n",
    "\n",
    "# Distance function\n",
    "def rmse(p, p_hat):\n",
    "    s = 0\n",
    "    for it in zip(p, p_hat):\n",
    "        diff = it[0] - it[1]\n",
    "        s += diff * diff\n",
    "    return math.sqrt(s / len(p))\n",
    "\n",
    "# Frequentist interval\n",
    "import math\n",
    "def get_interval(d, N):\n",
    "    intervals = []\n",
    "    for di in d:\n",
    "        z_a2 = 1.96\n",
    "        margin = z_a2 * math.sqrt(di* (1 - di) / N)\n",
    "        ub = di + margin\n",
    "        lb = di - margin\n",
    "        intervals.append((ub, lb))\n",
    "    return intervals\n",
    "\n",
    "# Bayes interval\n",
    "def bayes_step(data, alpha):\n",
    "    new_alpha = [sum(x) for x in zip(alpha, data)]\n",
    "    estimated_p = alpha / sum(alpha)\n",
    "    return (new_alpha, estimated_p)\n",
    "\n",
    "def bayes(data):\n",
    "    K = len(data)\n",
    "    alpha = np.ones(K)\n",
    "    estimated_p = np.zeros(K)\n",
    "    # traces = []\n",
    "    for i in range(0, len(data)):\n",
    "        # inference\n",
    "        alpha, estimated_p = bayes_step(data[i], alpha)\n",
    "        # traces.append((alpha, estimated_p))\n",
    "    return (alpha, estimated_p)\n",
    "\n",
    "def synthesize_data(n_samples, N):\n",
    "    data = []\n",
    "    p_tscc_true = model.eval_bscc_pfuncs(p_true)\n",
    "    for i in range(0, n_samples):\n",
    "        s = model.sample(params=p_true, sample_size=N)\n",
    "        data.append(s)\n",
    "    return data, p_tscc_true\n",
    "\n",
    "def estimate_params(N):\n",
    "    n_samples = 10\n",
    "    data, p_tscc_true = synthesize_data(n_samples, N)\n",
    "    freq_intervals = []\n",
    "    for d in data:\n",
    "        freq_sample = d[2]\n",
    "        freq_intervals = get_interval(freq_sample, N)\n",
    "    bayes_intervals = []\n",
    "    multinomial_samples = [d[1] for d in data]\n",
    "    alpha_hat, p_hat = bayes(multinomial_samples)\n",
    "    posterior_sample = np.random.dirichlet(alpha_hat, 1000)\n",
    "    bayes_intervals = pm.stats.hpd(posterior_sample)\n",
    "    return (freq_intervals, bayes_intervals, p_hat, p_tscc_true)\n",
    "    \n",
    "def visualize_point(p_true, p_hat):\n",
    "    fig = plt.gcf()\n",
    "    fig.set_size_inches(8.5, 5.5)\n",
    "    plt.plot(p_true, 'r.')\n",
    "    plt.plot(p_hat, 'bx')\n",
    "    plt.ylabel('Point estimation')\n",
    "    plt.show()\n",
    "\n",
    "def visualize_intervals(freq_intervals, bayes_intervals, p_tscc_true):\n",
    "    fig = plt.gcf()\n",
    "    fig.set_size_inches(8.5, 5.5)\n",
    "    plt.plot(p_tscc_true, 'rx')\n",
    "    for i, it in enumerate(zip(freq_intervals, bayes_intervals)):\n",
    "        f = it[0]\n",
    "        b = it[1]\n",
    "        offset = 0.2\n",
    "        plt.plot([i, i], [f[0], f[1]], 'g-')\n",
    "        plt.plot([i + offset, i + offset], [b[0], b[1]], 'r-')\n",
    "    plt.ylabel('Interval estimation')\n",
    "    plt.show()\n",
    "    \n",
    "(freq_intervals, bayes_intervals, p_hat, p_tscc_true) = estimate_params(N)\n",
    "visualize_point(p_tscc_true, p_hat)\n",
    "visualize_intervals(freq_intervals, bayes_intervals, p_tscc_true)\n",
    "    "
   ]
  },
  {
   "cell_type": "code",
   "execution_count": null,
   "metadata": {},
   "outputs": [],
   "source": []
  }
 ],
 "metadata": {
  "kernelspec": {
   "display_name": "Python 3.7.6 64-bit ('base': conda)",
   "language": "python",
   "name": "python37664bitbasecondad6b0fee7308342e783f4bfbb33550305"
  },
  "language_info": {
   "codemirror_mode": {
    "name": "ipython",
    "version": 3
   },
   "file_extension": ".py",
   "mimetype": "text/x-python",
   "name": "python",
   "nbconvert_exporter": "python",
   "pygments_lexer": "ipython3",
   "version": "3.7.6"
  }
 },
 "nbformat": 4,
 "nbformat_minor": 4
}
